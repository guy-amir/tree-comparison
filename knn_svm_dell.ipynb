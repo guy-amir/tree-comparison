{
 "cells": [
  {
   "cell_type": "code",
   "execution_count": 1,
   "metadata": {},
   "outputs": [],
   "source": [
    "#load libraries\n",
    "import lib\n",
    "import numpy as np\n",
    "import matplotlib.pyplot as plt\n",
    "from matplotlib.colors import ListedColormap\n",
    "from sklearn.neighbors import NearestNeighbors\n",
    "from sklearn.svm import LinearSVC"
   ]
  },
  {
   "cell_type": "code",
   "execution_count": 2,
   "metadata": {},
   "outputs": [],
   "source": [
    "def plotting_funciton(svm,X,y):\n",
    "    C = 1.0  # SVM regularization parameter\n",
    "    # models = (svm.SVC(kernel='linear', C=C),\n",
    "    #           svm.LinearSVC(C=C, max_iter=10000),\n",
    "    #           svm.SVC(kernel='rbf', gamma=0.7, C=C),\n",
    "    #           svm.SVC(kernel='poly', degree=3, gamma='auto', C=C))\n",
    "    # models = (clf.fit(X, y) for clf in models)\n",
    "\n",
    "    # title for the plots\n",
    "    # title = 'SVC with linear kernel'\n",
    "\n",
    "    # # Set-up 2x2 grid for plotting.\n",
    "    fig, sub = plt.subplots(1,1)\n",
    "    plt.subplots_adjust(wspace=0.5, hspace=0.5)\n",
    "\n",
    "    ax = sub\n",
    "\n",
    "    X0, X1 = X[:,0], X[:,1]\n",
    "    xx, yy = lib.make_meshgrid(X0, X1)\n",
    "\n",
    "    # # ###########################################################################\n",
    "    w = svm.coef_[0]\n",
    "    a = -w[0] / w[1]\n",
    "    XX = np.linspace(-5, 5)\n",
    "    YY = a * XX - (svm.intercept_[0]) / w[1]\n",
    "    ax.plot(XX, YY, \"-\")\n",
    "    # # ###########################################################################\n",
    "\n",
    "    # for clf, title, ax in zip(models, titles, sub.flatten()):\n",
    "    lib.plot_contours(ax, svm, xx, yy,\n",
    "                  cmap=plt.cm.coolwarm, alpha=0.8)\n",
    "    ax.scatter(X0, X1, c=y, cmap=plt.cm.coolwarm, s=20, edgecolors='k')\n",
    "    ax.set_xlim(xx.min(), xx.max())\n",
    "    ax.set_ylim(yy.min(), yy.max())\n",
    "    ax.set_xlabel('0')\n",
    "    ax.set_ylabel('1')\n",
    "    ax.set_xticks(())\n",
    "    ax.set_yticks(())\n",
    "    # ax.set_title(title)\n",
    "\n",
    "    plt.show()"
   ]
  },
  {
   "cell_type": "code",
   "execution_count": 3,
   "metadata": {},
   "outputs": [],
   "source": [
    "#load dataset\n",
    "X,y = lib.generate_circle(samples=500)"
   ]
  },
  {
   "cell_type": "code",
   "execution_count": 4,
   "metadata": {},
   "outputs": [],
   "source": [
    "def devision(X,y,svm):\n",
    "    w = svm.coef_[0]\n",
    "    a = -w[0] / w[1]\n",
    "    Xsvm = a * X[:,0] - (svm.intercept_[0]) / w[1]\n",
    "    div = np.copy(y)\n",
    "    div.fill(0)\n",
    "    div[X[:,1]>Xsvm] = 1\n",
    "    div = np.reshape(div,(-1,1))\n",
    "    return div"
   ]
  },
  {
   "cell_type": "code",
   "execution_count": 32,
   "metadata": {},
   "outputs": [],
   "source": [
    "#caluculate nearest neighbors\n",
    "def find_nn(X,y,n_neighbors=50,n_most_different=50):\n",
    "    nbrs = NearestNeighbors(n_neighbors=n_neighbors, algorithm='ball_tree').fit(X)\n",
    "    distances, indices = nbrs.kneighbors(X)\n",
    "    ys = y[indices]\n",
    "    Xs = X[indices]\n",
    "    most_different_nn = np.argsort(-np.var(ys,1))[:n_most_different]\n",
    "    most_different_var = -np.sort(-np.var(ys,1))[:n_most_different]\n",
    "    return Xs[most_different_nn],ys[most_different_nn],most_different_var\n",
    "\n",
    "def find_proper_svm(X,y):\n",
    "    Xs,ys,var = find_nn(X,y)\n",
    "    combined_score = []\n",
    "    clf = LinearSVC(random_state=0, tol=1e-5)\n",
    "    for i in range(len(ys)):\n",
    "        clf.fit(Xs[i], ys[i])\n",
    "#         print(f'{clf.score(Xs[i],ys[i])} {clf.score(X,y)}')\n",
    "#         plotting_funciton(clf,X,y)\n",
    "        combined_score.append(clf.score(Xs[i], ys[i])*var[i])\n",
    "    am = np.argmax(combined_score)\n",
    "    return clf.fit(Xs[am], ys[am])"
   ]
  },
  {
   "cell_type": "code",
   "execution_count": 24,
   "metadata": {},
   "outputs": [],
   "source": [
    "\n",
    "        "
   ]
  },
  {
   "cell_type": "code",
   "execution_count": 25,
   "metadata": {},
   "outputs": [],
   "source": [
    "def smallify_dataset(X,y,div):\n",
    "    y_left = y[div==0]\n",
    "    X_left = X[div==0]\n",
    "    y_right = y[div==1]\n",
    "    X_right = X[div==1]\n",
    "    return X_left, y_left,  X_right,  y_right"
   ]
  },
  {
   "cell_type": "code",
   "execution_count": 26,
   "metadata": {},
   "outputs": [
    {
     "data": {
      "text/plain": [
       "LinearSVC(random_state=0, tol=1e-05)"
      ]
     },
     "execution_count": 26,
     "metadata": {},
     "output_type": "execute_result"
    }
   ],
   "source": [
    "cs = find_proper_svm(X,y)\n",
    "cs"
   ]
  },
  {
   "cell_type": "code",
   "execution_count": 31,
   "metadata": {},
   "outputs": [
    {
     "data": {
      "text/plain": [
       "array([-0.11980964, -0.17457804])"
      ]
     },
     "execution_count": 31,
     "metadata": {},
     "output_type": "execute_result"
    }
   ],
   "source": [
    "    w = svm.coef_[0]\n",
    "    ww = svm.intercept_[0]\n",
    "    w"
   ]
  },
  {
   "cell_type": "code",
   "execution_count": 9,
   "metadata": {},
   "outputs": [],
   "source": [
    "div = devision(X,y,cs)"
   ]
  },
  {
   "cell_type": "code",
   "execution_count": 10,
   "metadata": {},
   "outputs": [],
   "source": [
    "#get dataset"
   ]
  },
  {
   "cell_type": "code",
   "execution_count": 11,
   "metadata": {
    "scrolled": true
   },
   "outputs": [
    {
     "data": {
      "image/png": "[encoded data removed]",
      "text/plain": [
       "<Figure size 432x288 with 1 Axes>"
      ]
     },
     "metadata": {},
     "output_type": "display_data"
    }
   ],
   "source": [
    "plotting_funciton(cs,X,y)"
   ]
  },
  {
   "cell_type": "code",
   "execution_count": 12,
   "metadata": {},
   "outputs": [
    {
     "data": {
      "text/plain": [
       "LinearSVC(random_state=0, tol=1e-05)"
      ]
     },
     "execution_count": 12,
     "metadata": {},
     "output_type": "execute_result"
    }
   ],
   "source": [
    "from sklearn.svm import LinearSVC\n",
    "from sklearn.pipeline import make_pipeline\n",
    "from sklearn.preprocessing import StandardScaler\n",
    "from sklearn.datasets import make_classification\n",
    "\n",
    "svm = LinearSVC(random_state=0, tol=1e-5)\n",
    "svm.fit(X, y)"
   ]
  },
  {
   "cell_type": "code",
   "execution_count": 13,
   "metadata": {},
   "outputs": [
    {
     "data": {
      "text/plain": [
       "500"
      ]
     },
     "execution_count": 13,
     "metadata": {},
     "output_type": "execute_result"
    }
   ],
   "source": [
    "len(y)"
   ]
  },
  {
   "cell_type": "code",
   "execution_count": 14,
   "metadata": {},
   "outputs": [
    {
     "ename": "ValueError",
     "evalue": "could not broadcast input array from shape (500,1) into shape (500)",
     "output_type": "error",
     "traceback": [
      "\u001b[0;31m---------------------------------------------------------------------------\u001b[0m",
      "\u001b[0;31mValueError\u001b[0m                                Traceback (most recent call last)",
      "\u001b[0;32m<ipython-input-14-a51df15e5d36>\u001b[0m in \u001b[0;36m<module>\u001b[0;34m\u001b[0m\n\u001b[1;32m      1\u001b[0m \u001b[0mdiv\u001b[0m \u001b[0;34m=\u001b[0m \u001b[0mnp\u001b[0m\u001b[0;34m.\u001b[0m\u001b[0mzeros\u001b[0m\u001b[0;34m(\u001b[0m\u001b[0;34m(\u001b[0m\u001b[0;36m2\u001b[0m\u001b[0;34m**\u001b[0m\u001b[0;36m5\u001b[0m\u001b[0;34m,\u001b[0m\u001b[0mlen\u001b[0m\u001b[0;34m(\u001b[0m\u001b[0my\u001b[0m\u001b[0;34m)\u001b[0m\u001b[0;34m)\u001b[0m\u001b[0;34m)\u001b[0m\u001b[0;34m\u001b[0m\u001b[0;34m\u001b[0m\u001b[0m\n\u001b[0;32m----> 2\u001b[0;31m \u001b[0mdiv\u001b[0m\u001b[0;34m[\u001b[0m\u001b[0;36m1\u001b[0m\u001b[0;34m,\u001b[0m\u001b[0;34m:\u001b[0m\u001b[0;34m]\u001b[0m \u001b[0;34m=\u001b[0m \u001b[0mdevision\u001b[0m\u001b[0;34m(\u001b[0m\u001b[0mX\u001b[0m\u001b[0;34m,\u001b[0m\u001b[0my\u001b[0m\u001b[0;34m,\u001b[0m\u001b[0msvm\u001b[0m\u001b[0;34m)\u001b[0m\u001b[0;34m\u001b[0m\u001b[0;34m\u001b[0m\u001b[0m\n\u001b[0m",
      "\u001b[0;31mValueError\u001b[0m: could not broadcast input array from shape (500,1) into shape (500)"
     ]
    }
   ],
   "source": [
    "div = np.zeros((2**5,len(y)))\n",
    "div[1,:] = devision(X,y,svm)"
   ]
  },
  {
   "cell_type": "code",
   "execution_count": null,
   "metadata": {},
   "outputs": [],
   "source": [
    "plotting_funciton(clf,X,y)"
   ]
  },
  {
   "cell_type": "code",
   "execution_count": 19,
   "metadata": {},
   "outputs": [],
   "source": [
    "class svm_tree:\n",
    "    def __init__(self,X,y,n_levels):\n",
    "        self.X = X\n",
    "        self.y = y\n",
    "        self.n_levels = n_levels\n",
    "        self.svm_list = []\n",
    "        svm_list.append(find_proper_svm(X,y))\n",
    "        \n",
    "        #duplicate div\n",
    "        self.div = np.zeros((2**n_levels,len(y)))\n",
    "        self.div[1,:] = devision(X,y,svm_list[0])[:,0]\n",
    "        #run each of the duplicates through svm \n",
    "        #append div\n",
    "    #######################start loop here\n",
    "    def node(Xn,yn,node_number,level):\n",
    "        #find proper devision\n",
    "        svm = find_proper_svm(Xn,yn)\n",
    "        #define divider function\n",
    "        self.div[node_number,:] = devision(self.X,self.y,svm)\n",
    "        #calculate SVM over children\n",
    "        X_left, y_left,  X_right,  y_right = smallify_dataset(Xm,ym,div)\n",
    "        node(X_left, y_left,2*node_number,level+1)\n",
    "        node(X_right,  y_right,2*node_number+1,level+1)\n"
   ]
  },
  {
   "cell_type": "code",
   "execution_count": 22,
   "metadata": {},
   "outputs": [
    {
     "data": {
      "text/plain": [
       "array([1., 0., 1., 1., 1., 0., 1., 1., 0., 1., 1., 1., 1., 1., 1., 1., 1.,\n",
       "       1., 1., 1., 1., 1., 1., 1., 1., 1., 1., 1., 1., 1., 1., 1., 1., 1.,\n",
       "       1., 1., 1., 1., 1., 1., 1., 1., 1., 1., 1., 1., 1., 1., 1., 1., 1.,\n",
       "       1., 1., 1., 1., 1., 1., 1., 1., 1., 1., 1., 1., 1., 1., 1., 1., 1.,\n",
       "       1., 1., 1., 1., 1., 1., 1., 1., 0., 0., 0., 1., 1., 1., 1., 1., 1.,\n",
       "       1., 1., 1., 1., 1., 1., 1., 1., 1., 1., 1., 1., 1., 1., 1., 1., 1.,\n",
       "       1., 1., 1., 1., 1., 1., 1., 1., 1., 1., 1., 1., 1., 1., 0., 1., 1.,\n",
       "       1., 1., 1., 1., 0., 1., 1., 1., 0., 1., 1., 1., 1., 1., 1., 1., 1.,\n",
       "       1., 1., 1., 1., 1., 1., 1., 1., 1., 1., 1., 1., 1., 1., 1., 1., 1.,\n",
       "       0., 1., 1., 1., 1., 1., 1., 1., 1., 0., 1., 1., 1., 1., 1., 1., 1.,\n",
       "       1., 1., 1., 1., 1., 1., 1., 1., 1., 0., 1., 1., 1., 1., 1., 1., 1.,\n",
       "       1., 1., 1., 1., 1., 1., 1., 1., 1., 1., 1., 1., 1., 1., 1., 1., 1.,\n",
       "       1., 1., 1., 1., 1., 1., 1., 1., 1., 1., 1., 1., 1., 1., 1., 1., 1.,\n",
       "       1., 1., 1., 1., 1., 1., 1., 0., 1., 1., 1., 1., 0., 1., 1., 1., 1.,\n",
       "       1., 1., 0., 1., 1., 1., 1., 1., 1., 1., 1., 1., 1., 1., 0., 1., 1.,\n",
       "       1., 0., 1., 1., 1., 1., 1., 1., 0., 1., 1., 1., 1., 1., 1., 1., 1.,\n",
       "       1., 1., 1., 1., 1., 1., 1., 1., 1., 1., 1., 1., 1., 1., 1., 1., 0.,\n",
       "       1., 1., 1., 1., 1., 1., 1., 1., 1., 1., 1., 1., 1., 1., 1., 1., 1.,\n",
       "       1., 1., 1., 0., 1., 1., 1., 1., 1., 1., 1., 1., 1., 1., 1., 1., 1.,\n",
       "       0., 1., 0., 1., 1., 1., 1., 1., 1., 1., 1., 1., 0., 1., 1., 1., 0.,\n",
       "       1., 1., 1., 1., 1., 1., 1., 1., 1., 1., 1., 1., 1., 1., 1., 1., 1.,\n",
       "       1., 1., 0., 1., 1., 1., 1., 1., 1., 1., 1., 1., 1., 1., 1., 1., 1.,\n",
       "       0., 0., 1., 1., 1., 1., 1., 1., 1., 1., 1., 1., 1., 0., 1., 1., 1.,\n",
       "       1., 1., 1., 1., 1., 1., 1., 1., 1., 0., 0., 1., 1., 1., 1., 1., 1.,\n",
       "       1., 1., 1., 1., 1., 1., 1., 1., 1., 1., 1., 1., 1., 1., 1., 1., 1.,\n",
       "       1., 1., 1., 0., 1., 1., 1., 1., 1., 1., 1., 1., 1., 1., 1., 1., 1.,\n",
       "       1., 1., 1., 1., 1., 1., 1., 1., 1., 1., 1., 1., 1., 1., 1., 0., 1.,\n",
       "       1., 0., 1., 1., 1., 1., 0., 1., 1., 1., 0., 1., 1., 1., 1., 1., 1.,\n",
       "       1., 0., 0., 1., 1., 1., 0., 1., 1., 1., 1., 1., 0., 1., 1., 0., 1.,\n",
       "       1., 1., 1., 1., 1., 1., 1.])"
      ]
     },
     "execution_count": 22,
     "metadata": {},
     "output_type": "execute_result"
    }
   ],
   "source": [
    "svm_list = []\n",
    "\n",
    "#generate X,y\n",
    "X,y = lib.generate_circle(samples=500)\n",
    "\n",
    "#root node\n",
    "st = svm_tree(X,y,5)\n",
    "st.div[1,:]\n",
    "#plot\n",
    "# plotting_funciton(svm_right,X,y)"
   ]
  },
  {
   "cell_type": "code",
   "execution_count": null,
   "metadata": {},
   "outputs": [],
   "source": [
    "np.var(y_right)"
   ]
  },
  {
   "cell_type": "code",
   "execution_count": null,
   "metadata": {},
   "outputs": [],
   "source": [
    "#def take_left(X,y,div):\n",
    "X_left, y_left,  X_right,  y_right = smallify_dataset(X,y,div)\n",
    "# svm_left = find_proper_svm(X_left, y_left)\n",
    "svm_right = find_proper_svm(X_right,  y_right)"
   ]
  },
  {
   "cell_type": "code",
   "execution_count": null,
   "metadata": {},
   "outputs": [],
   "source": [
    "#calculate accuracy of these points"
   ]
  },
  {
   "cell_type": "code",
   "execution_count": null,
   "metadata": {},
   "outputs": [],
   "source": [
    "#split using point of highest accuracy"
   ]
  },
  {
   "cell_type": "code",
   "execution_count": null,
   "metadata": {},
   "outputs": [],
   "source": [
    "div = np.reshape(div,(-1,1))\n",
    "np.shape(div)\n",
    "repdiv = np.repeat(div,2,axis=1)"
   ]
  },
  {
   "cell_type": "code",
   "execution_count": null,
   "metadata": {},
   "outputs": [],
   "source": [
    "np.shape(repdiv)"
   ]
  },
  {
   "cell_type": "code",
   "execution_count": null,
   "metadata": {},
   "outputs": [],
   "source": [
    "    def forward(self, x, save_flag = False):\n",
    "        if self.prms.feature_map == True:\n",
    "            if x.is_cuda and not self.feature_mask.is_cuda:\n",
    "                self.feature_mask = self.feature_mask.cuda()\n",
    "            feats = torch.mm(x.view(-1,self.feature_mask.size(0)), self.feature_mask)\n",
    "        else:\n",
    "            feats = x\n",
    "\n",
    "        self.d = [self.decision(node(feats)) for node in self.fc]\n",
    "        \n",
    "        self.d = torch.stack(self.d)\n",
    "\n",
    "        decision = torch.cat((self.d,1-self.d),dim=2).permute(1,0,2)\n",
    "        \n",
    "        batch_size = x.size()[0]\n",
    "        mu = x.data.new(x.size(0),1,1).fill_(1.)\n",
    "        big_mu = x.data.new(x.size(0),2,1).fill_(1.)\n",
    "        begin_idx = 1\n",
    "        end_idx = 2\n",
    "        for n_layer in range(0, self.depth):\n",
    "            # mu stores the probability a sample is routed at certain node\n",
    "            # repeat it to be multiplied for left and right routing\n",
    "            mu = mu.repeat(1, 1, 2)\n",
    "            # the routing probability at n_layer\n",
    "            _decision = decision[:, begin_idx:end_idx, :] # -> [batch_size,2**n_layer,2]\n",
    "            mu = mu*_decision # -> [batch_size,2**n_layer,2]\n",
    "            begin_idx = end_idx\n",
    "            end_idx = begin_idx + 2 ** (n_layer+1)\n",
    "            # merge left and right nodes to the same layer\n",
    "            mu = mu.view(x.size(0), -1, 1)\n",
    "            big_mu = torch.cat((big_mu,mu),1)\n",
    "\n",
    "        big_mu = big_mu.view(x.size(0), -1)    \n",
    "        # self.mu_cache.append(big_mu)  \n",
    "        return big_mu #-> [batch size,n_leaf]"
   ]
  }
 ],
 "metadata": {
  "kernelspec": {
   "display_name": "Python 3",
   "language": "python",
   "name": "python3"
  },
  "language_info": {
   "codemirror_mode": {
    "name": "ipython",
    "version": 3
   },
   "file_extension": ".py",
   "mimetype": "text/x-python",
   "name": "python",
   "nbconvert_exporter": "python",
   "pygments_lexer": "ipython3",
   "version": "3.7.5"
  }
 },
 "nbformat": 4,
 "nbformat_minor": 2
}
