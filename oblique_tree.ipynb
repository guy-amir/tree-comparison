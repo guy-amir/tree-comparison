{
 "cells": [
  {
   "cell_type": "code",
   "execution_count": 2,
   "metadata": {},
   "outputs": [],
   "source": [
    "import numpy as np\n",
    "\n",
    "from sklearn.model_selection import train_test_split\n",
    "from sklearn.datasets import load_iris\n",
    "from sklearn.tree import DecisionTreeClassifier\n",
    "\n",
    "import seaborn as sns\n",
    "import matplotlib.pyplot as plt"
   ]
  },
  {
   "cell_type": "code",
   "execution_count": 24,
   "metadata": {},
   "outputs": [],
   "source": [
    "X = np.random.rand(1000,2)\n",
    "Y1 = np.zeros(1000)\n",
    "Y2 = np.zeros(1000)\n",
    "Y1[X[:,0]<X[:,1]]=int(1)\n",
    "Y2[X[:,0]>1-X[:,1]]=int(1)\n",
    "Y = Y1*Y2\n",
    "Y = Y.astype(int)"
   ]
  },
  {
   "cell_type": "code",
   "execution_count": 28,
   "metadata": {},
   "outputs": [
    {
     "name": "stdout",
     "output_type": "stream",
     "text": [
      "Iris Accuracy: 0.999\n"
     ]
    }
   ],
   "source": [
    "from sklearn.datasets import load_iris, load_breast_cancer\n",
    "from sklearn.model_selection import train_test_split\n",
    "from sklearn.metrics import accuracy_score\n",
    "from sklearn_oblique_tree.oblique import ObliqueTree\n",
    "\n",
    "random_state = 2\n",
    "\n",
    "#see Murthy, et all for details.\n",
    "#For oblique with consideration of axis parallel\n",
    "#tree = ObliqueTree(splitter=\"oc1, axis_parallel\", number_of_restarts=20, max_perturbations=5, random_state=random_state)\n",
    "#\n",
    "#For multivariate CART select 'cart' splitter\n",
    "#tree = ObliqueTree(splitter=\"cart\", number_of_restarts=20, max_perturbations=5, random_state=random_state)\n",
    "\n",
    "#consider only oblique splits\n",
    "tree = ObliqueTree(splitter=\"oc1\", number_of_restarts=20, max_perturbations=5, random_state=random_state)\n",
    "\n",
    "tree.fit(X,Y)\n",
    "# X_train, X_test, y_train, y_test = train_test_split(*load_iris(return_X_y=True), test_size=.4, random_state=random_state)\n",
    "\n",
    "# tree.fit(X_train, y_train)\n",
    "\n",
    "predictions = tree.predict(X)\n",
    "\n",
    "print(\"Iris Accuracy:\",accuracy_score(Y, predictions))"
   ]
  },
  {
   "cell_type": "code",
   "execution_count": 22,
   "metadata": {},
   "outputs": [
    {
     "data": {
      "text/plain": [
       "numpy.float64"
      ]
     },
     "execution_count": 22,
     "metadata": {},
     "output_type": "execute_result"
    }
   ],
   "source": [
    "type(Y[1])"
   ]
  },
  {
   "cell_type": "code",
   "execution_count": 31,
   "metadata": {},
   "outputs": [
    {
     "data": {
      "text/plain": [
       "<sklearn_oblique_tree.oblique._oblique.Tree at 0x7f078f750c30>"
      ]
     },
     "execution_count": 31,
     "metadata": {},
     "output_type": "execute_result"
    }
   ],
   "source": []
  },
  {
   "cell_type": "code",
   "execution_count": null,
   "metadata": {},
   "outputs": [],
   "source": []
  },
  {
   "cell_type": "code",
   "execution_count": null,
   "metadata": {},
   "outputs": [],
   "source": []
  }
 ],
 "metadata": {
  "kernelspec": {
   "display_name": "Python 3",
   "language": "python",
   "name": "python3"
  },
  "language_info": {
   "codemirror_mode": {
    "name": "ipython",
    "version": 3
   },
   "file_extension": ".py",
   "mimetype": "text/x-python",
   "name": "python",
   "nbconvert_exporter": "python",
   "pygments_lexer": "ipython3",
   "version": "3.7.5"
  }
 },
 "nbformat": 4,
 "nbformat_minor": 2
}
